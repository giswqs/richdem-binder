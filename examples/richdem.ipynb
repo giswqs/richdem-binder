{
 "cells": [
  {
   "cell_type": "markdown",
   "metadata": {},
   "source": [
    "# A tutorial for the richdem Python package\n",
    "\n",
    "This notebook demonstrates the usage of the **richdem** Python package for geospatial analysis.\n",
    "\n",
    "* GitHub repo: https://github.com/giswqs/richdem-binder\n",
    "* richdem: https://github.com/r-barnes/richdem\n",
    "\n",
    "**Launch this tutorial as an interactive Jupyter Notebook on the cloud - [MyBinder.org](https://mybinder.org/v2/gh/giswqs/richdem-binder/master).**"
   ]
  },
  {
   "cell_type": "markdown",
   "metadata": {},
   "source": [
    "## Table of Content\n",
    "\n",
    "* [Installation](#Installation)\n"
   ]
  },
  {
   "cell_type": "markdown",
   "metadata": {},
   "source": [
    "## Installation\n",
    "\n",
    "\n",
    "The **richdem** Python package can be installed using the following command:\n",
    "\n",
    "`pip install richdem`\n",
    "\n",
    "If you have installed **richdem** Python package before and want to upgrade to the latest version, you can use the following command:\n",
    "\n",
    "`pip install richdem -U`"
   ]
  },
  {
   "cell_type": "markdown",
   "metadata": {},
   "source": [
    "## Using pygis"
   ]
  },
  {
   "cell_type": "code",
   "execution_count": 1,
   "metadata": {},
   "outputs": [],
   "source": [
    "import pygis"
   ]
  },
  {
   "cell_type": "markdown",
   "metadata": {},
   "source": [
    "### Downloading files"
   ]
  },
  {
   "cell_type": "code",
   "execution_count": 2,
   "metadata": {},
   "outputs": [],
   "source": [
    "url = \"https://github.com/giswqs/lidar/raw/master/examples/lidar-dem.zip\""
   ]
  },
  {
   "cell_type": "code",
   "execution_count": 3,
   "metadata": {},
   "outputs": [
    {
     "name": "stdout",
     "output_type": "stream",
     "text": [
      "Downloading data.zip ...\n",
      "Downloading done.\n"
     ]
    }
   ],
   "source": [
    "pygis.download_from_url(url, file_name='data.zip', unzip=False)"
   ]
  },
  {
   "cell_type": "code",
   "execution_count": null,
   "metadata": {},
   "outputs": [],
   "source": []
  },
  {
   "cell_type": "code",
   "execution_count": 4,
   "metadata": {},
   "outputs": [],
   "source": [
    "gfile_url = 'https://drive.google.com/file/d/1c6v-ep5-klb2J32Nuu1rSyqAc8kEtmdh'"
   ]
  },
  {
   "cell_type": "code",
   "execution_count": 5,
   "metadata": {},
   "outputs": [
    {
     "name": "stdout",
     "output_type": "stream",
     "text": [
      "Google Drive file id: 1c6v-ep5-klb2J32Nuu1rSyqAc8kEtmdh\n",
      "Downloading 1c6v-ep5-klb2J32Nuu1rSyqAc8kEtmdh into ./dem.zip... Done.\n",
      "Unzipping...Done.\n"
     ]
    }
   ],
   "source": [
    "pygis.download_from_gdrive(gfile_url, 'dem.zip')"
   ]
  },
  {
   "cell_type": "code",
   "execution_count": null,
   "metadata": {},
   "outputs": [],
   "source": []
  }
 ],
 "metadata": {
  "kernelspec": {
   "display_name": "pygeo",
   "language": "python",
   "name": "pygeo"
  },
  "language_info": {
   "codemirror_mode": {
    "name": "ipython",
    "version": 3
   },
   "file_extension": ".py",
   "mimetype": "text/x-python",
   "name": "python",
   "nbconvert_exporter": "python",
   "pygments_lexer": "ipython3",
   "version": "3.6.6"
  }
 },
 "nbformat": 4,
 "nbformat_minor": 2
}
